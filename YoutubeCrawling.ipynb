{
 "cells": [
  {
   "cell_type": "code",
   "execution_count": 1,
   "metadata": {},
   "outputs": [
    {
     "ename": "ModuleNotFoundError",
     "evalue": "No module named 'chromedriver_binary'",
     "output_type": "error",
     "traceback": [
      "\u001b[1;31m---------------------------------------------------------------------------\u001b[0m",
      "\u001b[1;31mModuleNotFoundError\u001b[0m                       Traceback (most recent call last)",
      "\u001b[1;32m<ipython-input-1-2e6d94436702>\u001b[0m in \u001b[0;36m<module>\u001b[1;34m\u001b[0m\n\u001b[0;32m      7\u001b[0m \u001b[1;32mfrom\u001b[0m \u001b[0mselenium\u001b[0m \u001b[1;32mimport\u001b[0m \u001b[0mwebdriver\u001b[0m\u001b[1;33m\u001b[0m\u001b[1;33m\u001b[0m\u001b[0m\n\u001b[0;32m      8\u001b[0m \u001b[1;32mimport\u001b[0m \u001b[0mtraceback\u001b[0m\u001b[1;33m\u001b[0m\u001b[1;33m\u001b[0m\u001b[0m\n\u001b[1;32m----> 9\u001b[1;33m \u001b[1;32mimport\u001b[0m \u001b[0mchromedriver_binary\u001b[0m\u001b[1;33m\u001b[0m\u001b[1;33m\u001b[0m\u001b[0m\n\u001b[0m\u001b[0;32m     10\u001b[0m \u001b[1;32mfrom\u001b[0m \u001b[0mselenium\u001b[0m \u001b[1;32mimport\u001b[0m \u001b[0mwebdriver\u001b[0m\u001b[1;33m\u001b[0m\u001b[1;33m\u001b[0m\u001b[0m\n\u001b[0;32m     11\u001b[0m \u001b[1;32mfrom\u001b[0m \u001b[0mselenium\u001b[0m\u001b[1;33m.\u001b[0m\u001b[0mwebdriver\u001b[0m\u001b[1;33m.\u001b[0m\u001b[0mchrome\u001b[0m\u001b[1;33m.\u001b[0m\u001b[0moptions\u001b[0m \u001b[1;32mimport\u001b[0m \u001b[0mOptions\u001b[0m\u001b[1;33m\u001b[0m\u001b[1;33m\u001b[0m\u001b[0m\n",
      "\u001b[1;31mModuleNotFoundError\u001b[0m: No module named 'chromedriver_binary'"
     ]
    }
   ],
   "source": [
    "#セレニウム練習\n",
    "\n",
    "import os\n",
    "import time\n",
    "import datetime\n",
    "import pytz\n",
    "from selenium import webdriver\n",
    "import traceback\n",
    "import chromedriver_binary\n",
    "from selenium import webdriver\n",
    "from selenium.webdriver.chrome.options import Options\n",
    "from selenium.webdriver.common.keys import Keys\n",
    "from selenium.common.exceptions import NoSuchElementException"
   ]
  },
  {
   "cell_type": "code",
   "execution_count": 2,
   "metadata": {},
   "outputs": [
    {
     "ename": "ModuleNotFoundError",
     "evalue": "No module named 'snowflake.connector'; 'snowflake' is not a package",
     "output_type": "error",
     "traceback": [
      "\u001b[1;31m---------------------------------------------------------------------------\u001b[0m",
      "\u001b[1;31mModuleNotFoundError\u001b[0m                       Traceback (most recent call last)",
      "\u001b[1;32m<ipython-input-2-08526089813f>\u001b[0m in \u001b[0;36m<module>\u001b[1;34m\u001b[0m\n\u001b[1;32m----> 1\u001b[1;33m \u001b[1;32mimport\u001b[0m \u001b[0msnowflake\u001b[0m\u001b[1;33m.\u001b[0m\u001b[0mconnector\u001b[0m\u001b[1;33m\u001b[0m\u001b[1;33m\u001b[0m\u001b[0m\n\u001b[0m",
      "\u001b[1;31mModuleNotFoundError\u001b[0m: No module named 'snowflake.connector'; 'snowflake' is not a package"
     ]
    }
   ],
   "source": [
    "import snowflake.connector"
   ]
  },
  {
   "cell_type": "code",
   "execution_count": null,
   "metadata": {},
   "outputs": [],
   "source": [
    "# fetch_per_row.py\n",
    "import os\n",
    "import snowflake.connector\n",
    "\n",
    "snowflake.connector.paramstyle='qmark' # (4)\n",
    "\n",
    "with snowflake.connector.connect( # (1)\n",
    "        user=os.environ['kiyo22'], # (2)\n",
    "        password=os.environ['Kodani22'],\n",
    "        account=os.environ['SYSADMIN'],\n",
    "        database='YOUTUBEANALY',\n",
    "        schema='YOUTUBE'\n",
    "    ) as con:\n",
    "\n",
    "    with con.cursor() as cur: # (3)\n",
    "        cur.execute(\"SELECT C_NAME, C_NATIONKEY, C_ACCTBAL FROM CUSTOMER WHERE C_MKTSEGMENT = ? LIMIT 3\", ['BUILDING']) # (4)\n",
    "        for row in cur:\n",
    "            print(type(row))\n",
    "            name, nationkey, acctbal = row\n",
    "            print(f'{name=}, {nationkey=}, {acctbal=}')"
   ]
  },
  {
   "cell_type": "code",
   "execution_count": null,
   "metadata": {},
   "outputs": [],
   "source": [
    "ctx = snowflake.connector.connect(\n",
    "          user='kiyo22',\n",
    "          password='Kodani22',\n",
    "          account='SYSADMIN',\n",
    "          warehouse='COMPUTE_WH',\n",
    "          database='YOUTUBEANALY',\n",
    "          schema='YOUTUBE',\n",
    "          protocol='https',\n",
    "          port=port)"
   ]
  },
  {
   "cell_type": "code",
   "execution_count": 31,
   "metadata": {},
   "outputs": [
    {
     "name": "stderr",
     "output_type": "stream",
     "text": [
      "ERROR: Could not find a version that satisfies the requirement python\n",
      "ERROR: No matching distribution found for python\n"
     ]
    }
   ],
   "source": [
    "!pip install python --upgrade --user"
   ]
  },
  {
   "cell_type": "code",
   "execution_count": 4,
   "metadata": {},
   "outputs": [
    {
     "name": "stderr",
     "output_type": "stream",
     "text": [
      "Traceback (most recent call last):\n",
      "  File \"C:\\ProgramData\\Anaconda3\\Scripts\\pip-script.py\", line 6, in <module>\n",
      "    from pip._internal.cli.main import main\n",
      "  File \"C:\\ProgramData\\Anaconda3\\lib\\site-packages\\pip\\_internal\\cli\\main.py\", line 8, in <module>\n",
      "    from pip._internal.cli.autocompletion import autocomplete\n",
      "  File \"C:\\ProgramData\\Anaconda3\\lib\\site-packages\\pip\\_internal\\cli\\autocompletion.py\", line 9, in <module>\n",
      "    from pip._internal.cli.main_parser import create_main_parser\n",
      "  File \"C:\\ProgramData\\Anaconda3\\lib\\site-packages\\pip\\_internal\\cli\\main_parser.py\", line 7, in <module>\n",
      "    from pip._internal.cli import cmdoptions\n",
      "  File \"C:\\ProgramData\\Anaconda3\\lib\\site-packages\\pip\\_internal\\cli\\cmdoptions.py\", line 22, in <module>\n",
      "    from pip._internal.cli.progress_bars import BAR_TYPES\n",
      "  File \"C:\\ProgramData\\Anaconda3\\lib\\site-packages\\pip\\_internal\\cli\\progress_bars.py\", line 9, in <module>\n",
      "    from pip._internal.utils.logging import get_indentation\n",
      "  File \"C:\\ProgramData\\Anaconda3\\lib\\site-packages\\pip\\_internal\\utils\\logging.py\", line 14, in <module>\n",
      "    from pip._internal.utils.misc import ensure_dir\n",
      "  File \"C:\\ProgramData\\Anaconda3\\lib\\site-packages\\pip\\_internal\\utils\\misc.py\", line 29, in <module>\n",
      "    from pip._internal.locations import get_major_minor_version, site_packages, user_site\n",
      "  File \"C:\\ProgramData\\Anaconda3\\lib\\site-packages\\pip\\_internal\\locations\\__init__.py\", line 9, in <module>\n",
      "    from . import _distutils, _sysconfig\n",
      "  File \"C:\\ProgramData\\Anaconda3\\lib\\site-packages\\pip\\_internal\\locations\\_sysconfig.py\", line 8, in <module>\n",
      "    from pip._internal.exceptions import InvalidSchemeCombination, UserInstallationInvalid\n",
      "ImportError: cannot import name 'InvalidSchemeCombination' from 'pip._internal.exceptions' (C:\\ProgramData\\Anaconda3\\lib\\site-packages\\pip\\_internal\\exceptions.py)\n"
     ]
    }
   ],
   "source": []
  },
  {
   "cell_type": "code",
   "execution_count": 2,
   "metadata": {},
   "outputs": [
    {
     "ename": "ModuleNotFoundError",
     "evalue": "No module named 'snowflake.connector'; 'snowflake' is not a package",
     "output_type": "error",
     "traceback": [
      "\u001b[1;31m---------------------------------------------------------------------------\u001b[0m",
      "\u001b[1;31mModuleNotFoundError\u001b[0m                       Traceback (most recent call last)",
      "\u001b[1;32m<ipython-input-2-8e7a082877b4>\u001b[0m in \u001b[0;36m<module>\u001b[1;34m\u001b[0m\n\u001b[0;32m      1\u001b[0m \u001b[1;32mimport\u001b[0m \u001b[0mpandas\u001b[0m\u001b[1;33m\u001b[0m\u001b[1;33m\u001b[0m\u001b[0m\n\u001b[1;32m----> 2\u001b[1;33m \u001b[1;32mfrom\u001b[0m \u001b[0msnowflake\u001b[0m\u001b[1;33m.\u001b[0m\u001b[0mconnector\u001b[0m\u001b[1;33m.\u001b[0m\u001b[0mpandas_tools\u001b[0m \u001b[1;32mimport\u001b[0m \u001b[0mwrite_pandas\u001b[0m\u001b[1;33m\u001b[0m\u001b[1;33m\u001b[0m\u001b[0m\n\u001b[0m\u001b[0;32m      3\u001b[0m \u001b[1;33m\u001b[0m\u001b[0m\n\u001b[0;32m      4\u001b[0m \u001b[1;31m# Create the connection to the Snowflake database.\u001b[0m\u001b[1;33m\u001b[0m\u001b[1;33m\u001b[0m\u001b[1;33m\u001b[0m\u001b[0m\n\u001b[0;32m      5\u001b[0m cnx = snowflake.connector.connect(\n",
      "\u001b[1;31mModuleNotFoundError\u001b[0m: No module named 'snowflake.connector'; 'snowflake' is not a package"
     ]
    }
   ],
   "source": [
    "import pandas\n",
    "from snowflake.connector.pandas_tools import write_pandas\n",
    "\n",
    "# Create the connection to the Snowflake database.\n",
    "cnx = snowflake.connector.connect(\n",
    "        user='kiyo22',\n",
    "        password='Kodani22',\n",
    "        account='ml07236.ap-northeast-1.aws',\n",
    "        warehouse='COMPUTE_WH',\n",
    "        database='YOUTUBEANALY',\n",
    "        schema='YOUTUBE',\n",
    "        protocol='https'\n",
    "        )\n",
    "\n",
    "# Create a DataFrame containing data about customers\n",
    "df = pandas.DataFrame([('Mark', 10), ('Luke', 20)], columns=['name', 'balance'])\n",
    "\n",
    "# Write the data from the DataFrame to the table named \"customers\".\n",
    "success, nchunks, nrows, _ = write_pandas(cnx, df, 'customers')"
   ]
  },
  {
   "cell_type": "code",
   "execution_count": 4,
   "metadata": {},
   "outputs": [
    {
     "ename": "NameError",
     "evalue": "name 'engine' is not defined",
     "output_type": "error",
     "traceback": [
      "\u001b[1;31m---------------------------------------------------------------------------\u001b[0m",
      "\u001b[1;31mNameError\u001b[0m                                 Traceback (most recent call last)",
      "\u001b[1;32m<ipython-input-4-26a589095bef>\u001b[0m in \u001b[0;36m<module>\u001b[1;34m()\u001b[0m\n\u001b[0;32m      8\u001b[0m \u001b[1;31m# to write the data from the DataFrame to the table named \"customers\"\u001b[0m\u001b[1;33m\u001b[0m\u001b[1;33m\u001b[0m\u001b[0m\n\u001b[0;32m      9\u001b[0m \u001b[1;31m# in the Snowflake database.\u001b[0m\u001b[1;33m\u001b[0m\u001b[1;33m\u001b[0m\u001b[0m\n\u001b[1;32m---> 10\u001b[1;33m \u001b[0mdf\u001b[0m\u001b[1;33m.\u001b[0m\u001b[0mto_sql\u001b[0m\u001b[1;33m(\u001b[0m\u001b[1;34m'customers'\u001b[0m\u001b[1;33m,\u001b[0m \u001b[0mengine\u001b[0m\u001b[1;33m,\u001b[0m \u001b[0mindex\u001b[0m\u001b[1;33m=\u001b[0m\u001b[1;32mFalse\u001b[0m\u001b[1;33m,\u001b[0m \u001b[0mmethod\u001b[0m\u001b[1;33m=\u001b[0m\u001b[0mpd_writer\u001b[0m\u001b[1;33m)\u001b[0m\u001b[1;33m\u001b[0m\u001b[0m\n\u001b[0m",
      "\u001b[1;31mNameError\u001b[0m: name 'engine' is not defined"
     ]
    }
   ],
   "source": [
    "import pandas\n",
    "from snowflake.connector.pandas_tools import pd_writer\n",
    "\n",
    "# Create a DataFrame containing data about customers\n",
    "df = pandas.DataFrame([('Mark', 10), ('Luke', 20)], columns=['name', 'balance'])\n",
    "\n",
    "# Specify that the to_sql method should use the pd_writer function\n",
    "# to write the data from the DataFrame to the table named \"customers\"\n",
    "# in the Snowflake database.\n",
    "df.to_sql('customers', engine, index=False, method=pd_writer)"
   ]
  },
  {
   "cell_type": "code",
   "execution_count": 119,
   "metadata": {},
   "outputs": [
    {
     "name": "stderr",
     "output_type": "stream",
     "text": [
      "C:\\ProgramData\\Anaconda3\\lib\\site-packages\\ipykernel_launcher.py:10: DeprecationWarning: use options instead of chrome_options\n",
      "  # Remove the CWD from sys.path while we load stuff.\n"
     ]
    }
   ],
   "source": [
    "chrome_options = Options()\n",
    "chrome_options.add_argument(r'--user-data-dir=C:\\Users\\Ycafe4\\AppData\\Local\\Google\\Chrome\\USERDA~1\\Profile 1\\Extensions')\n",
    "#profile_path = 'C:\\\\Users\\\\Ycafe4\\\\AppData\\\\Local\\\\Google\\\\Chrome\\\\User Data\\\\Profile 1'\n",
    "#chrome_options.add_argument('--user-data-dir=' + profile_path)\n",
    "chrome_options.add_extension('1.3.6_0.crx')\n",
    "chrome_options.add_argument('--incognito')\n",
    "# webdriver.AddArgument(\"user-data-dir=\" & PROFILE_PATH)\n",
    "#driver = webdriver.Chrome(chrome_options=chrome_options)\n",
    "#driver = webdriver.Chrome(r'C:\\Users\\Ycafe4\\.conda\\pkgs\\chromedriver-binary-2.38-0\\Library\\bin\\chromedriver.exe', chrome_options=chrome_options) \n",
    "driver = webdriver.Chrome(r'C:\\ProgramData\\Anaconda3\\Lib\\site-packages\\chromedriver_binary\\chromedriver.exe', chrome_options=chrome_options) \n",
    "# driver.switch_to.alert.accept()\n",
    "driver.maximize_window()\n",
    "driver.get('https://www.youtube.com/')\n",
    "time.sleep(2)\n",
    "#あで検索\n"
   ]
  },
  {
   "cell_type": "code",
   "execution_count": 120,
   "metadata": {},
   "outputs": [],
   "source": [
    "#あで検索\n",
    "driver.find_element_by_xpath('//*[@id=\"search\"]').send_keys(\"あORいORうORえORおORかORきORくORけORこORさORしORすORせORそORたORちORつORてORとORなORにORぬORねORのORはORひORふORへORほORまORみORむORめORもORやORゆORよORわORりORるORれORろORわORをORんORがORぎORぐORげORごORざORじORずORぜORぞORだORぢORづORでORどORばORびORぶORべORぼORぱORぴORぷORぺORぽORぁORぃORぅORぇORぉORゃORゅORょORアORイORウORエORオORカORキORクORケORコORサORシORスORセORソORタORチORツORテORトORナORニORヌORネORノORハORヒORフORヘORホORマORミORムORメORモORヤORユORヨORラORリORルORレORロORワORヲORンORガORギORグORゲORゴORザORジORズORゼORゾORダORヂORヅORデORドORバORビORブORベORボORパORピORプORペORポORァORィORゥORェORォORャORュORョ\")"
   ]
  },
  {
   "cell_type": "code",
   "execution_count": 122,
   "metadata": {},
   "outputs": [],
   "source": [
    "driver.find_element_by_xpath('//*[@id=\"search\"]').send_keys(Keys.ENTER)"
   ]
  },
  {
   "cell_type": "code",
   "execution_count": 123,
   "metadata": {},
   "outputs": [],
   "source": [
    "#フィルタ画面表示\n",
    "driver.find_element_by_xpath('//*[@id=\"container\"]/ytd-toggle-button-renderer/a').click()"
   ]
  },
  {
   "cell_type": "code",
   "execution_count": 124,
   "metadata": {},
   "outputs": [],
   "source": [
    "#1時間以内の動画にフィルタ\n",
    "#driver.find_element_by_xpath('//*[@id=\"dismissible\"]/ytd-thumbnail').click()\n",
    "driver.find_element_by_xpath('//*[@id=\"label\"]/yt-formatted-string').click()"
   ]
  },
  {
   "cell_type": "code",
   "execution_count": 125,
   "metadata": {},
   "outputs": [],
   "source": [
    "#1個目の動画を開く \n",
    "driver.find_element_by_xpath('//*[@id=\"contents\"]/ytd-video-renderer[1]').click()\n",
    "#driver.find_element_by_xpath('//*[@id=\"dismissible\"]/ytd-thumbnail').click()\n",
    "#driver.find_element_by_xpath('//*[@id=\"thumbnail\"]/yt-img-shadow').click()"
   ]
  },
  {
   "cell_type": "code",
   "execution_count": 128,
   "metadata": {},
   "outputs": [
    {
     "data": {
      "text/plain": [
       "'CpbsV010RV8'"
      ]
     },
     "execution_count": 128,
     "metadata": {},
     "output_type": "execute_result"
    }
   ],
   "source": [
    "#1個目の動画の情報\n",
    "#VIDEOIDの取得\n",
    "VIDEOID = driver.current_url\n",
    "VIDEOID = VIDEOID.split('=')\n",
    "VIDEOID[1]"
   ]
  },
  {
   "cell_type": "code",
   "execution_count": 145,
   "metadata": {},
   "outputs": [
    {
     "data": {
      "text/plain": [
       "datetime.datetime(2021, 4, 24, 5, 49, 3, 885853, tzinfo=<DstTzInfo 'Asia/Tokyo' JST+9:00:00 STD>)"
      ]
     },
     "execution_count": 145,
     "metadata": {},
     "output_type": "execute_result"
    }
   ],
   "source": [
    "TIMESTAMP = datetime.datetime.now(pytz.timezone('Asia/Tokyo'))\n",
    "TIMESTAMP"
   ]
  },
  {
   "cell_type": "code",
   "execution_count": 138,
   "metadata": {},
   "outputs": [],
   "source": [
    "#動画公開日時の取得\n",
    "#拡張機能の詳細を左クリック\n",
    "try:\n",
    "    driver.find_element_by_xpath('//*[@id=\"info-text\"]/span').click()\n",
    "except:\n",
    "    pass"
   ]
  },
  {
   "cell_type": "code",
   "execution_count": 139,
   "metadata": {},
   "outputs": [
    {
     "data": {
      "text/plain": [
       "'2021/04/24 04:37:00'"
      ]
     },
     "execution_count": 139,
     "metadata": {},
     "output_type": "execute_result"
    }
   ],
   "source": [
    "START_TIME = driver.find_element_by_xpath('//*[@id=\"info-text\"]/span[2]').text\n",
    "START_TIME = START_TIME.replace('・', '').replace('に公開', ':00')\n",
    "START_TIME"
   ]
  },
  {
   "cell_type": "code",
   "execution_count": 129,
   "metadata": {},
   "outputs": [],
   "source": [
    "driver.find_element_by_xpath('//*[@id=\"movie_player\"]/div[26]/div[2]/div[1]/button').click()"
   ]
  },
  {
   "cell_type": "code",
   "execution_count": 130,
   "metadata": {},
   "outputs": [
    {
     "data": {
      "text/plain": [
       "'Kuzuha Channel'"
      ]
     },
     "execution_count": 130,
     "metadata": {},
     "output_type": "execute_result"
    }
   ],
   "source": [
    "#チャンネル情報の取得\n",
    "CHANNELTITLE = driver.find_element_by_xpath('//*[@id=\"top-row\"]/ytd-video-owner-renderer').text\n",
    "CHANNELTITLE = CHANNELTITLE.split('\\n')\n",
    "#チャンネル登録者数を取得\n",
    "CHANNELREGISTER = CHANNELTITLE[1]\n",
    "CHANNELTITLE = CHANNELTITLE[0]\n",
    "CHANNELTITLE"
   ]
  },
  {
   "cell_type": "code",
   "execution_count": 131,
   "metadata": {},
   "outputs": [
    {
     "data": {
      "text/plain": [
       "773000"
      ]
     },
     "execution_count": 131,
     "metadata": {},
     "output_type": "execute_result"
    }
   ],
   "source": [
    "#チャンネル登録者数の取得\n",
    "CHANNELREGISTER = CHANNELREGISTER.split(' ')\n",
    "#実数値に変換\n",
    "if '万' in CHANNELREGISTER[1]:\n",
    "    CHANNELREGISTER = int(float(CHANNELREGISTER[1].replace('万人', '')) * 10000)\n",
    "else:\n",
    "    CHANNELREGISTER = int(CHANNELREGISTER[1].replace('人', ''))\n",
    "CHANNELREGISTER"
   ]
  },
  {
   "cell_type": "code",
   "execution_count": 132,
   "metadata": {},
   "outputs": [
    {
     "data": {
      "text/plain": [
       "'【Valorant】ひまつびし【 など】'"
      ]
     },
     "execution_count": 132,
     "metadata": {},
     "output_type": "execute_result"
    }
   ],
   "source": [
    "#動画タイトルの取得\n",
    "TITLE = driver.find_element_by_xpath('//*[@id=\"container\"]/h1/yt-formatted-string').text\n",
    "TITLE"
   ]
  },
  {
   "cell_type": "code",
   "execution_count": 133,
   "metadata": {},
   "outputs": [],
   "source": [
    "#動画概要欄の取得\n",
    "#もっと見るを左クリック\n",
    "try:\n",
    "    driver.find_element_by_xpath('//*[@id=\"more\"]').click()\n",
    "except:\n",
    "    pass"
   ]
  },
  {
   "cell_type": "code",
   "execution_count": 134,
   "metadata": {},
   "outputs": [
    {
     "data": {
      "text/plain": [
       "'体\\n\\nTheFatRat - Unity:https://www.youtube.com/watch?v=n8X9_...\\n\\n\\n- - - - - - - - - - - - - - - - - - - - - - - - - - - - - - - - - - - \\nスポンサー登録とは！ → 月額$4.99(約490円)を支払うことで\\n\\u3000\\u3000\\u3000\\u3000\\u3000\\u3000\\u3000\\u3000\\u3000\\u3000\\u3000  チャンネルのスポンサーになり\\n\\u3000\\u3000\\u3000\\u3000\\u3000\\u3000\\u3000\\u3000\\u3000\\u3000\\u3000  様々な特典を受け取ることができます！\\n\\n【 スポンサー特典 】\\n\\u3000○ 名前の横にチャンネルのオリジナルバッチが表示される\\n\\u3000○ オリジナルスタンプ(絵文字)が使えるようになる\\n\\u3000○ 低速モードの影響を受けない\\n\\n\\u3000- - - - - - - - - - - - - - - - - - - - - - - - - - - - - - - - - - - - - \\n\\n\\u3000\\u3000\\u3000Give me your money or blood...\\n\\n\\u3000- - - - - - - - - - - - - - - - - - - - - - - - - - - - - - - - - - - - - \\n\\n\\u3000▽ お願い .\\n\\n\\u3000・ほかのチャンネルでは内輪ネタは控えてください\\n\\u3000\\u3000(🎲ｩ！等 意味を理解できず不快に思う方がいるかもしれません)\\n\\n\\u3000・人を不快にさせるような発言はご遠慮下さい\\n\\u3000\\u3000(暴力的、性的、批判的な発言)\\n\\n\\u3000・配信への要望や意見は気軽に言ってください\\n\\u3000\\u3000(https://goo.gl/dWXNWz )\\n\\n\\u3000・他のチャンネルで無闇に名前を出さないでください\\n\\u3000- - - - - - - - - - - - - - - - - - - - - - - - - - - - - - - - - - - - -\\n\\n▼ Twitter\\nhttps://twitter.com/Vamp_Kuzu\\n\\n\\u3000配信や動画以外での葛葉様の様子を\\n\\n▼ Official HP .\\nhttps://vamp-kuzuha.jimdo.com\\n\\n\\u3000詳しいプロフィールなどを掲載\\n\\n\\u3000- - - - - - - - - - - - - - - - - - - - - - - - - - - - - - - - - - - - - \\n\\nhttps://nijisanji.ichikara.co.jp/contact\\n✉offer@ichikara.co.jp\\n\\n▼ 公式Twitter\\nhttps://twitter.com/Nijisanji_app\\n\\n\\u3000- - - - - - - - - - - - - - - - - - - - - - - - - - - - - - - - - - - - - \\n\\n【ファンレター等の送り先】\\n\\n〒101-0022\\n東京都千代田区神田練塀町300番地\\n住友不動産秋葉原駅前ビル10F\\nいちから株式会社 葛葉宛\\n\\n\\nhttps://nijisanji.ichikara.co.jp/cont...\\nお預かりできない物もあるので上記URLの\\n「Q.プレゼントはどのように渡せばいいですか？」をご一読お願いします。\\n\\u3000- - - - - - - - - - - - - - - - - - - - - - - - - - - - - - - - - - - -'"
      ]
     },
     "execution_count": 134,
     "metadata": {},
     "output_type": "execute_result"
    }
   ],
   "source": [
    "SUMMARY = driver.find_element_by_xpath('//*[@id=\"description\"]/yt-formatted-string').text\n",
    "SUMMARY"
   ]
  },
  {
   "cell_type": "code",
   "execution_count": 140,
   "metadata": {},
   "outputs": [],
   "source": [
    "# #ライブ配信か否か見分けて\n",
    "# try:\n",
    "#     driver.find_element_by_xpath('//*[@id=\"movie_player\"]/div[26]').text\n",
    "#     #n 時間前にライブ配信開始用\n",
    "#     if '時間' in STARTMV:\n",
    "#         STARTMV = int(STARTMV.replace('時間前にライブ配信', ''))\n",
    "#         START_TIME = TIME - datetime.timedelta(hours= STARTMV)\n",
    "#     #n 分前にライブ配信開始'\n",
    "#     elif '分'in STARTMV:\n",
    "#         STARTMV = int(STARTMV.replace(' 分前にライブ配信開始', ''))\n",
    "#         START_TIME = TIME - datetime.timedelta(minutes= STARTMV)\n",
    "#     else:\n",
    "#         START_TIME = driver.find_element_by_xpath('//*[@id=\"info-text\"]/span[2]').text\n",
    "#         START_TIME = START_TIME.replace('・', '').replace('に公開', ':00')\n",
    "# except:\n",
    "#     START_TIME = driver.find_element_by_xpath('//*[@id=\"info-text\"]/span[2]').text\n",
    "#     START_TIME = START_TIME.replace('・', '').replace('に公開', ':00')\n",
    "# START_TIME"
   ]
  },
  {
   "cell_type": "code",
   "execution_count": 141,
   "metadata": {},
   "outputs": [
    {
     "data": {
      "text/plain": [
       "'5,813'"
      ]
     },
     "execution_count": 141,
     "metadata": {},
     "output_type": "execute_result"
    }
   ],
   "source": [
    "#ライブ配信か否か見分けて視聴回数の取得\n",
    "try:\n",
    "    driver.find_element_by_xpath('//*[@id=\"movie_player\"]/div[26]').text\n",
    "    VIEWCOUNT = driver.find_element_by_xpath('//*[@id=\"count\"]/ytd-video-view-count-renderer/span[1]').text\n",
    "    VIEWCOUNT = VIEWCOUNT.replace(' 人が視聴中', '')\n",
    "except:\n",
    "    VIEWCOUNT = driver.find_element_by_xpath('//*[@id=\"count\"]/ytd-video-view-count-renderer/span[1]').text\n",
    "    VIEWCOUNT = VIEWCOUNT.replace(' 回視聴', '')\n",
    "VIEWCOUNT"
   ]
  },
  {
   "cell_type": "code",
   "execution_count": 65,
   "metadata": {},
   "outputs": [
    {
     "data": {
      "text/plain": [
       "16"
      ]
     },
     "execution_count": 65,
     "metadata": {},
     "output_type": "execute_result"
    }
   ],
   "source": [
    "#いいね回数の取得\n",
    "LIKECOUNT = driver.find_element_by_xpath('//*[@id=\"top-level-buttons\"]/ytd-toggle-button-renderer[1]/a').text\n",
    "#実数値に変換\n",
    "if '万' in LIKECOUNT:\n",
    "    LIKECOUNT = int(float(LIKECOUNT.replace('万', '')) * 10000)\n",
    "else:\n",
    "    LIKECOUNT = int(LIKECOUNT)\n",
    "LIKECOUNT"
   ]
  },
  {
   "cell_type": "code",
   "execution_count": 142,
   "metadata": {},
   "outputs": [
    {
     "data": {
      "text/plain": [
       "14"
      ]
     },
     "execution_count": 142,
     "metadata": {},
     "output_type": "execute_result"
    }
   ],
   "source": [
    "#低評価回数の取得\n",
    "DISLIKECOUNT = driver.find_element_by_xpath('//*[@id=\"top-level-buttons\"]/ytd-toggle-button-renderer[2]/a').text\n",
    "#実数値に変換\n",
    "if '万' in DISLIKECOUNT:\n",
    "    DISLIKECOUNT = int(float(DISLIKECOUNT.replace('万', '')) * 10000)\n",
    "else:\n",
    "    DISLIKECOUNT = int(DISLIKECOUNT)\n",
    "DISLIKECOUNT"
   ]
  },
  {
   "cell_type": "code",
   "execution_count": 143,
   "metadata": {},
   "outputs": [
    {
     "name": "stdout",
     "output_type": "stream",
     "text": [
      "ゲーム\n",
      "VALORANT\n"
     ]
    }
   ],
   "source": [
    "#ジャンルとゲームタイトルの取得\n",
    "try:\n",
    "    GENRE = driver.find_element_by_xpath('//*[@id=\"always-shown\"]').text\n",
    "    GENRE = GENRE.split('\\n')\n",
    "    GAME_TITLE = GENRE[0]\n",
    "    GENRE = GENRE[3]\n",
    "    print(GENRE)\n",
    "    print(GAME_TITLE)\n",
    "except:\n",
    "    GENRE = None\n",
    "    GAME = None"
   ]
  },
  {
   "cell_type": "code",
   "execution_count": 135,
   "metadata": {},
   "outputs": [],
   "source": [
    "#タグの取得\n",
    "TAG = SUMMARY.split('#')"
   ]
  },
  {
   "cell_type": "code",
   "execution_count": 136,
   "metadata": {},
   "outputs": [
    {
     "data": {
      "text/plain": [
       "[]"
      ]
     },
     "execution_count": 136,
     "metadata": {},
     "output_type": "execute_result"
    }
   ],
   "source": [
    "TAGLIST = []\n",
    "for TAGP in TAG[1:len(TAG)]:\n",
    "    if '\\n' in TAGP:\n",
    "        TAGP = TAGP.split('\\n')\n",
    "        TAGLIST.append(TAGP[0])\n",
    "    elif ' ' in TAGP:\n",
    "        TAGP = TAGP.split(' ')\n",
    "        TAGLIST.append(TAGP[0])\n",
    "TAGLIST"
   ]
  },
  {
   "cell_type": "code",
   "execution_count": 3,
   "metadata": {},
   "outputs": [],
   "source": [
    "pip install -r https://raw.githubusercontent.com/snowflakedb/snowflake-connector-python/v2.4.2/tested_requirements/requirements_37.reqs --user"
   ]
  },
  {
   "cell_type": "code",
   "execution_count": null,
   "metadata": {},
   "outputs": [],
   "source": [
    "# !pip install -r https://raw.githubusercontent.com/snowflakedb/snowflake-connector-python/v2.4.2/tested_requirements/requirements_36.reqs --user\n",
    "\n",
    "# ブラウザ起動\n",
    "options = Options()\n",
    "options.add_argument('--headless')\n",
    "driver = webdriver.Chrome(options=options)"
   ]
  }
 ],
 "metadata": {
  "kernelspec": {
   "display_name": "Python 3",
   "language": "python",
   "name": "python3"
  },
  "language_info": {
   "codemirror_mode": {
    "name": "ipython",
    "version": 3
   },
   "file_extension": ".py",
   "mimetype": "text/x-python",
   "name": "python",
   "nbconvert_exporter": "python",
   "pygments_lexer": "ipython3",
   "version": "3.7.10"
  }
 },
 "nbformat": 4,
 "nbformat_minor": 4
}
